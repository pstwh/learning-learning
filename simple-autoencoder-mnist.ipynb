{
 "cells": [
  {
   "cell_type": "code",
   "execution_count": 3,
   "metadata": {},
   "outputs": [],
   "source": [
    "import numpy as np\n",
    "import matplotlib.pyplot as plt\n",
    "import tensorflow as tf\n",
    "from tensorflow.examples.tutorials.mnist import input_data"
   ]
  },
  {
   "cell_type": "code",
   "execution_count": 4,
   "metadata": {},
   "outputs": [],
   "source": [
    "import os\n",
    "\n",
    "current_dir = os.getcwd()"
   ]
  },
  {
   "cell_type": "code",
   "execution_count": 5,
   "metadata": {},
   "outputs": [
    {
     "name": "stdout",
     "output_type": "stream",
     "text": [
      "Extracting /home/paulo/workspaces/autoencoder-mnist/mnist_data/train-images-idx3-ubyte.gz\n",
      "Extracting /home/paulo/workspaces/autoencoder-mnist/mnist_data/train-labels-idx1-ubyte.gz\n",
      "Extracting /home/paulo/workspaces/autoencoder-mnist/mnist_data/t10k-images-idx3-ubyte.gz\n",
      "Extracting /home/paulo/workspaces/autoencoder-mnist/mnist_data/t10k-labels-idx1-ubyte.gz\n"
     ]
    }
   ],
   "source": [
    "mnist_data = input_data.read_data_sets('{}/mnist_data'.format(current_dir), one_hot=True)"
   ]
  },
  {
   "cell_type": "code",
   "execution_count": 6,
   "metadata": {},
   "outputs": [],
   "source": [
    "NUM_EPOCHS = 100\n",
    "BATCH_SIZE = 64"
   ]
  },
  {
   "cell_type": "code",
   "execution_count": 7,
   "metadata": {},
   "outputs": [],
   "source": [
    "input_placeholder = tf.placeholder('float', [None, 28*28])\n",
    "output_placeholder = tf.placeholder('float', [None, 28*28])\n",
    "learning_rate = tf.placeholder('float', [])"
   ]
  },
  {
   "cell_type": "code",
   "execution_count": 8,
   "metadata": {},
   "outputs": [],
   "source": [
    "weights = {\n",
    "    'dlayer_01': tf.Variable(tf.random_normal([28*28, 196])),\n",
    "    'dlayer_02': tf.Variable(tf.random_normal([196, 98])),\n",
    "    'dlayer_03': tf.Variable(tf.random_normal([98, 49])),\n",
    "    'clayer_03': tf.Variable(tf.random_normal([49, 98])),\n",
    "    'clayer_02': tf.Variable(tf.random_normal([98, 196])),\n",
    "    'clayer_01': tf.Variable(tf.random_normal([196, 28*28]))\n",
    "}"
   ]
  },
  {
   "cell_type": "code",
   "execution_count": 9,
   "metadata": {},
   "outputs": [],
   "source": [
    "biases = {\n",
    "    'dlayer_01': tf.Variable(tf.random_normal([196])),\n",
    "    'dlayer_02': tf.Variable(tf.random_normal([98])),\n",
    "    'dlayer_03': tf.Variable(tf.random_normal([49])),\n",
    "    'clayer_03': tf.Variable(tf.random_normal([98])),\n",
    "    'clayer_02': tf.Variable(tf.random_normal([196])),\n",
    "    'clayer_01': tf.Variable(tf.random_normal([28*28]))\n",
    "}"
   ]
  },
  {
   "cell_type": "code",
   "execution_count": 10,
   "metadata": {},
   "outputs": [],
   "source": [
    "dlayer_01 = tf.nn.sigmoid(tf.add(tf.matmul(input_placeholder, weights['dlayer_01']), biases['dlayer_01']))\n",
    "dlayer_02 = tf.nn.sigmoid(tf.add(tf.matmul(dlayer_01, weights['dlayer_02']), biases['dlayer_02']))\n",
    "dlayer_03 = tf.nn.sigmoid(tf.add(tf.matmul(dlayer_02, weights['dlayer_03']), biases['dlayer_03']))\n",
    "clayer_03 = tf.nn.sigmoid(tf.add(tf.matmul(dlayer_03, weights['clayer_03']), biases['clayer_03']))\n",
    "clayer_02 = tf.nn.sigmoid(tf.add(tf.matmul(clayer_03, weights['clayer_02']), biases['clayer_02']))\n",
    "clayer_01 = tf.nn.sigmoid(tf.add(tf.matmul(clayer_02, weights['clayer_01']), biases['clayer_01']))"
   ]
  },
  {
   "cell_type": "code",
   "execution_count": 11,
   "metadata": {},
   "outputs": [],
   "source": [
    "loss = tf.reduce_mean((clayer_01 - output_placeholder)**2)"
   ]
  },
  {
   "cell_type": "code",
   "execution_count": 12,
   "metadata": {},
   "outputs": [],
   "source": [
    "train = tf.train.AdamOptimizer(learning_rate).minimize(loss)"
   ]
  },
  {
   "cell_type": "code",
   "execution_count": 13,
   "metadata": {},
   "outputs": [],
   "source": [
    "sess = tf.Session()\n",
    "sess.run(tf.global_variables_initializer())"
   ]
  },
  {
   "cell_type": "code",
   "execution_count": 14,
   "metadata": {},
   "outputs": [
    {
     "name": "stdout",
     "output_type": "stream",
     "text": [
      "EPOCH: 0 - ITERATION: 858 - LOSS: 0.08105161786079407\n",
      "EPOCH: 10 - ITERATION: 858 - LOSS: 0.03727925568819046\n",
      "EPOCH: 20 - ITERATION: 858 - LOSS: 0.029211226850748062\n",
      "EPOCH: 30 - ITERATION: 858 - LOSS: 0.025158584117889404\n",
      "EPOCH: 40 - ITERATION: 858 - LOSS: 0.023057978600263596\n",
      "EPOCH: 50 - ITERATION: 858 - LOSS: 0.018603689968585968\n",
      "EPOCH: 60 - ITERATION: 858 - LOSS: 0.018571410328149796\n",
      "EPOCH: 70 - ITERATION: 858 - LOSS: 0.016483934596180916\n",
      "EPOCH: 80 - ITERATION: 858 - LOSS: 0.015552143566310406\n",
      "EPOCH: 90 - ITERATION: 858 - LOSS: 0.015782753005623817\n",
      "EPOCH: 100 - ITERATION: 858 - LOSS: 0.01551600731909275\n"
     ]
    }
   ],
   "source": [
    "for epoch in range(NUM_EPOCHS+1):\n",
    "    for i in range(int(mnist_data.train.num_examples/BATCH_SIZE)):\n",
    "        X_epoch, y_epoch = mnist_data.train.next_batch(BATCH_SIZE)\n",
    "        _, err = sess.run([train, loss], feed_dict={input_placeholder: X_epoch, output_placeholder: X_epoch, learning_rate: 0.002})\n",
    "    if(epoch % 10 == 0):\n",
    "        print('EPOCH: {} - ITERATION: {} - LOSS: {}'.format(epoch, i, err))\n",
    "        "
   ]
  },
  {
   "cell_type": "code",
   "execution_count": 52,
   "metadata": {},
   "outputs": [
    {
     "data": {
      "image/png": "[encoded data removed]",
      "text/plain": [
       "<matplotlib.figure.Figure at 0x7fe952d0bbe0>"
      ]
     },
     "metadata": {},
     "output_type": "display_data"
    }
   ],
   "source": [
    "prediction = sess.run(clayer_01, feed_dict={input_placeholder: [mnist_data.train.images[0]]})\n",
    "\n",
    "plt.subplot(1, 2, 1)\n",
    "plt.imshow(np.reshape(mnist_data.train.images[0], [28, 28]), cmap=\"gray\")\n",
    "\n",
    "plt.subplot(1, 2, 2)\n",
    "plt.imshow(np.reshape(prediction, [28, 28]), cmap=\"gray\")\n",
    "\n",
    "plt.show()"
   ]
  },
  {
   "cell_type": "code",
   "execution_count": 60,
   "metadata": {},
   "outputs": [],
   "source": [
    "sess.close()"
   ]
  }
 ],
 "metadata": {
  "kernelspec": {
   "display_name": "Python 3",
   "language": "python",
   "name": "python3"
  },
  "language_info": {
   "codemirror_mode": {
    "name": "ipython",
    "version": 3
   },
   "file_extension": ".py",
   "mimetype": "text/x-python",
   "name": "python",
   "nbconvert_exporter": "python",
   "pygments_lexer": "ipython3",
   "version": "3.5.2"
  }
 },
 "nbformat": 4,
 "nbformat_minor": 2
}
